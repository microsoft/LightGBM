{
 "cells": [
  {
   "cell_type": "markdown",
   "id": "e8f2e1a0-2faf-4955-a3e4-6c36b00e1ce8",
   "metadata": {},
   "source": [
    "# Examine the feature importances on an external dataset"
   ]
  },
  {
   "cell_type": "code",
   "execution_count": 1,
   "id": "6ad3ef6b-912a-4311-aa77-d6ac30b772d1",
   "metadata": {},
   "outputs": [],
   "source": [
    "import lightgbm as lgb\n",
    "from sklearn import datasets\n",
    "from sklearn.model_selection import train_test_split\n",
    "import numpy as np"
   ]
  },
  {
   "cell_type": "markdown",
   "id": "c4d9236e-cbda-44fb-aed0-414bda510cd2",
   "metadata": {},
   "source": [
    "## Helper wrapper around "
   ]
  },
  {
   "cell_type": "code",
   "execution_count": 9,
   "id": "cebd065f-173a-473c-812c-e855cdcafb62",
   "metadata": {},
   "outputs": [],
   "source": [
    "def make_regression(noise_columns=0, **kwargs):\n",
    "    X, y = datasets.make_regression(**kwargs)\n",
    "    np.random.default_rng(kwargs.get(\"random_state\", 0))\n",
    "    if noise_columns != 0:\n",
    "        X = np.append(X, np.random.choice(range(10), (X.shape[0], noise_columns)), axis=1)    \n",
    "    X_train, X_test, y_train, y_test = train_test_split(X, y, test_size=0.2, random_state=42)\n",
    "    return X_train, X_test, y_train, y_test"
   ]
  },
  {
   "cell_type": "markdown",
   "id": "434d995f-52b6-45c4-b94f-bcb62f137a33",
   "metadata": {},
   "source": [
    "## Train the model"
   ]
  },
  {
   "cell_type": "code",
   "execution_count": 10,
   "id": "6fe90ef4-73f2-417a-afca-48981e0eb576",
   "metadata": {},
   "outputs": [
    {
     "ename": "NameError",
     "evalue": "name 'numpy' is not defined",
     "output_type": "error",
     "traceback": [
      "\u001b[0;31m---------------------------------------------------------------------------\u001b[0m",
      "\u001b[0;31mNameError\u001b[0m                                 Traceback (most recent call last)",
      "Cell \u001b[0;32mIn[10], line 1\u001b[0m\n\u001b[0;32m----> 1\u001b[0m X_train, X_test, y_train, y_test \u001b[38;5;241m=\u001b[39m \u001b[43mmake_regression\u001b[49m\u001b[43m(\u001b[49m\n\u001b[1;32m      2\u001b[0m \u001b[43m    \u001b[49m\u001b[43mn_samples\u001b[49m\u001b[38;5;241;43m=\u001b[39;49m\u001b[38;5;241;43m3000\u001b[39;49m\u001b[43m,\u001b[49m\u001b[43m \u001b[49m\n\u001b[1;32m      3\u001b[0m \u001b[43m    \u001b[49m\u001b[43mnoise\u001b[49m\u001b[38;5;241;43m=\u001b[39;49m\u001b[38;5;241;43m1\u001b[39;49m\u001b[43m,\u001b[49m\u001b[43m \u001b[49m\n\u001b[1;32m      4\u001b[0m \u001b[43m    \u001b[49m\u001b[43mn_features\u001b[49m\u001b[38;5;241;43m=\u001b[39;49m\u001b[38;5;241;43m10\u001b[39;49m\u001b[43m,\u001b[49m\u001b[43m \u001b[49m\n\u001b[1;32m      5\u001b[0m \u001b[43m    \u001b[49m\u001b[43mnoise_columns\u001b[49m\u001b[38;5;241;43m=\u001b[39;49m\u001b[38;5;241;43m5\u001b[39;49m\u001b[43m,\u001b[49m\u001b[43m \u001b[49m\n\u001b[1;32m      6\u001b[0m \u001b[43m    \u001b[49m\u001b[43mrandom_state\u001b[49m\u001b[38;5;241;43m=\u001b[39;49m\u001b[38;5;241;43m1\u001b[39;49m\n\u001b[1;32m      7\u001b[0m \u001b[43m)\u001b[49m\n\u001b[1;32m      9\u001b[0m model \u001b[38;5;241m=\u001b[39m lgb\u001b[38;5;241m.\u001b[39mLGBMRegressor(objective\u001b[38;5;241m=\u001b[39m\u001b[38;5;124m\"\u001b[39m\u001b[38;5;124mregression\u001b[39m\u001b[38;5;124m\"\u001b[39m, verbose\u001b[38;5;241m=\u001b[39m\u001b[38;5;241m-\u001b[39m\u001b[38;5;241m1\u001b[39m)\u001b[38;5;241m.\u001b[39mfit(X_train, y_train)\n\u001b[1;32m     10\u001b[0m lgb\u001b[38;5;241m.\u001b[39mplot_importance(model, importance_type\u001b[38;5;241m=\u001b[39m\u001b[38;5;124m'\u001b[39m\u001b[38;5;124mgain\u001b[39m\u001b[38;5;124m'\u001b[39m, max_num_features\u001b[38;5;241m=\u001b[39m\u001b[38;5;241m30\u001b[39m)\n",
      "Cell \u001b[0;32mIn[9], line 3\u001b[0m, in \u001b[0;36mmake_regression\u001b[0;34m(noise_columns, **kwargs)\u001b[0m\n\u001b[1;32m      1\u001b[0m \u001b[38;5;28;01mdef\u001b[39;00m \u001b[38;5;21mmake_regression\u001b[39m(noise_columns\u001b[38;5;241m=\u001b[39m\u001b[38;5;241m0\u001b[39m, \u001b[38;5;241m*\u001b[39m\u001b[38;5;241m*\u001b[39mkwargs):\n\u001b[1;32m      2\u001b[0m     X, y \u001b[38;5;241m=\u001b[39m datasets\u001b[38;5;241m.\u001b[39mmake_regression(\u001b[38;5;241m*\u001b[39m\u001b[38;5;241m*\u001b[39mkwargs)\n\u001b[0;32m----> 3\u001b[0m     \u001b[43mnumpy\u001b[49m\u001b[38;5;241m.\u001b[39mrandom\u001b[38;5;241m.\u001b[39mdefault_rng(kwargs\u001b[38;5;241m.\u001b[39mget(\u001b[38;5;124m\"\u001b[39m\u001b[38;5;124mrandom_state\u001b[39m\u001b[38;5;124m\"\u001b[39m, \u001b[38;5;241m0\u001b[39m))\n\u001b[1;32m      4\u001b[0m     \u001b[38;5;28;01mif\u001b[39;00m noise_columns \u001b[38;5;241m!=\u001b[39m \u001b[38;5;241m0\u001b[39m:\n\u001b[1;32m      5\u001b[0m         X \u001b[38;5;241m=\u001b[39m np\u001b[38;5;241m.\u001b[39mappend(X, np\u001b[38;5;241m.\u001b[39mrandom\u001b[38;5;241m.\u001b[39mchoice(\u001b[38;5;28mrange\u001b[39m(\u001b[38;5;241m10\u001b[39m), (X\u001b[38;5;241m.\u001b[39mshape[\u001b[38;5;241m0\u001b[39m], noise_columns)), axis\u001b[38;5;241m=\u001b[39m\u001b[38;5;241m1\u001b[39m)    \n",
      "\u001b[0;31mNameError\u001b[0m: name 'numpy' is not defined"
     ]
    }
   ],
   "source": [
    "X_train, X_test, y_train, y_test = make_regression(\n",
    "    n_samples=3000, \n",
    "    noise=1, \n",
    "    n_features=10, \n",
    "    noise_columns=5, \n",
    "    random_state=1\n",
    ")\n",
    "\n",
    "model = lgb.LGBMRegressor(objective=\"regression\", verbose=-1).fit(X_train, y_train)\n",
    "lgb.plot_importance(model, importance_type='gain', max_num_features=30)"
   ]
  },
  {
   "cell_type": "markdown",
   "id": "b7e405b4-8f5b-4ba6-8ba1-6310b0518b26",
   "metadata": {},
   "source": [
    "## Trace the tree and compute the gain of each split on the test set"
   ]
  },
  {
   "cell_type": "markdown",
   "id": "109a4ea6-e487-4d14-9ccf-338994e0cebb",
   "metadata": {},
   "source": [
    "### Helper function to calculate the gain of each node"
   ]
  },
  {
   "cell_type": "code",
   "execution_count": 4,
   "id": "99288058-085d-4612-8c75-91cfaae95ec3",
   "metadata": {},
   "outputs": [],
   "source": [
    "def node_gain(sum_grad, sum_hess, value):\n",
    "    return -(2.0 * sum_grad * value + sum_hess * value * value)"
   ]
  },
  {
   "cell_type": "markdown",
   "id": "20bd13d7-13b9-4bbb-bd2b-30f037e390a7",
   "metadata": {},
   "source": [
    "### Helper function to trace a singular tree and sum the feature_importance of each feature"
   ]
  },
  {
   "cell_type": "code",
   "execution_count": 5,
   "id": "98c90aa4-851e-48c0-b0a7-139add05e883",
   "metadata": {},
   "outputs": [],
   "source": [
    "def dfs_accumulate(gains, tree, grad, hess, predicted_leaves):\n",
    "    if 'left_child' not in tree:\n",
    "        leaf_grad = grad[predicted_leaves == tree['leaf_index']].sum()\n",
    "        leaf_hess = hess[predicted_leaves == tree['leaf_index']].sum()\n",
    "        leaf_value = tree['leaf_value']\n",
    "        leaf_gain = node_gain(leaf_grad, leaf_hess, leaf_value)\n",
    "        return leaf_grad, leaf_hess, leaf_value, leaf_gain\n",
    "    else:\n",
    "        l_grad, l_hess, l_val, l_gain = dfs_accumulate(gains, tree['left_child'], grad, hess, predicted_leaves)\n",
    "        r_grad, r_hess, r_val, r_gain = dfs_accumulate(gains, tree['right_child'], grad, hess, predicted_leaves)\n",
    "        sum_grad, sum_hess, value = (l_grad + r_grad, l_hess + r_hess, tree['internal_value'])\n",
    "        now_gain = node_gain(sum_grad, sum_hess, value) \n",
    "        gains[tree['split_feature']] += (l_gain + r_gain) - now_gain\n",
    "        return sum_grad, sum_hess, value, now_gain"
   ]
  },
  {
   "cell_type": "markdown",
   "id": "2e649d33-8a7d-4129-b274-c5a203284e4a",
   "metadata": {},
   "source": [
    "### Run the whole computation, utilizing the exposed ObjectiveFunction class"
   ]
  },
  {
   "cell_type": "code",
   "execution_count": 6,
   "id": "907774be-103f-4cd5-9ff3-000b7581ac72",
   "metadata": {},
   "outputs": [],
   "source": [
    "def compute_out_of_sample_gains(X, y, model, objective):\n",
    "    booster = model.booster_\n",
    "    eval_set = lgb.Dataset(X, y).construct()\n",
    "    fobj = lgb.ObjectiveFunction(objective, {\"objective\": objective}).init(eval_set)\n",
    "    score = np.zeros(len(y))    \n",
    "    model_dump = booster.dump_model()\n",
    "    \n",
    "    gains = np.zeros(len(model_dump['feature_names']), dtype=np.float64)\n",
    "    \n",
    "    for i, tree in enumerate(model_dump['tree_info']):\n",
    "        grad, hess = fobj.get_gradients(score)\n",
    "        score += model.predict(X, num_iteration=1, start_iteration=i)\n",
    "        predicted_leaves = model.predict(X, num_iteration=1, start_iteration=i, pred_leaf=True)\n",
    "        dfs_accumulate(gains, tree['tree_structure'], grad, hess, predicted_leaves)\n",
    "\n",
    "    return {\n",
    "        feat: value\n",
    "        for value, feat in sorted(zip(gains, model_dump['feature_names']), key=lambda x: x[0])\n",
    "    }\n",
    "\n",
    "oos_gains = compute_out_of_sample_gains(X_test, y_test, model, \"regression\")"
   ]
  },
  {
   "cell_type": "markdown",
   "id": "937a49d1-3cb2-4d03-982a-4938a4f10fde",
   "metadata": {},
   "source": [
    "### Examine the plot and deduce that the noise columns are actually harmful, rather than less helpful"
   ]
  },
  {
   "cell_type": "code",
   "execution_count": 7,
   "id": "231d48e6-e9fb-40d3-a030-5e4ec8413b3c",
   "metadata": {},
   "outputs": [],
   "source": [
    "oos_gains_harmful = {\n",
    "    column: value\n",
    "    for column, value in oos_gains.items()\n",
    "    if value < 0\n",
    "}"
   ]
  },
  {
   "cell_type": "code",
   "execution_count": 8,
   "id": "ad778404-4112-430d-bdd7-1e35339ba68a",
   "metadata": {},
   "outputs": [
    {
     "data": {
      "image/png": "[encoded data removed]",
      "text/plain": [
       "<Figure size 600x500 with 1 Axes>"
      ]
     },
     "metadata": {},
     "output_type": "display_data"
    }
   ],
   "source": [
    "import matplotlib.pyplot as plt\n",
    "\n",
    "plt.figure(figsize=(6,5))\n",
    "plt.barh(list(oos_gains_harmful.keys()), list(oos_gains_harmful.values()))\n",
    "plt.xlabel('Feature importance')\n",
    "plt.ylabel('Features')\n",
    "plt.title('Feature importance')\n",
    "plt.grid(axis='both')\n",
    "plt.show()"
   ]
  }
 ],
 "metadata": {
  "kernelspec": {
   "display_name": "Python 3 (ipykernel)",
   "language": "python",
   "name": "python3"
  },
  "language_info": {
   "codemirror_mode": {
    "name": "ipython",
    "version": 3
   },
   "file_extension": ".py",
   "mimetype": "text/x-python",
   "name": "python",
   "nbconvert_exporter": "python",
   "pygments_lexer": "ipython3",
   "version": "3.11.9"
  }
 },
 "nbformat": 4,
 "nbformat_minor": 5
}
